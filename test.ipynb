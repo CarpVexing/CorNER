{
 "cells": [
  {
   "cell_type": "code",
   "execution_count": 1,
   "metadata": {},
   "outputs": [
    {
     "name": "stdout",
     "output_type": "stream",
     "text": [
      "1.1\n"
     ]
    }
   ],
   "source": [
    "import argparse\n",
    "\n",
    "print(argparse.__version__)"
   ]
  }
 ],
 "metadata": {
  "kernelspec": {
   "display_name": "bert_as_service",
   "language": "python",
   "name": "python3"
  },
  "language_info": {
   "codemirror_mode": {
    "name": "ipython",
    "version": 3
   },
   "file_extension": ".py",
   "mimetype": "text/x-python",
   "name": "python",
   "nbconvert_exporter": "python",
   "pygments_lexer": "ipython3",
   "version": "3.7.12"
  },
  "orig_nbformat": 4,
  "vscode": {
   "interpreter": {
    "hash": "7ca3d99c5a674eb900a3505bcb85a1a616c7e1feca076e37ed1c3618462c9e7e"
   }
  }
 },
 "nbformat": 4,
 "nbformat_minor": 2
}
