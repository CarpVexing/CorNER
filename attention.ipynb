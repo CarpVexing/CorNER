{
 "cells": [
  {
   "cell_type": "markdown",
   "metadata": {},
   "source": [
    "# 注意力自注意力多头注意力\n",
    "\n",
    "代码参考\n",
    "1. [The Annotated Transformer](http://nlp.seas.harvard.edu/2018/04/03/attention.html)\n",
    "2. [vit-pytorch](https://github.com/lucidrains/vit-pytorch/blob/main/vit_pytorch/vit.py)"
   ]
  },
  {
   "cell_type": "markdown",
   "metadata": {},
   "source": [
    "## Scaled Dot-Product Attention\n",
    "\n",
    "$$\n",
    "\\mathrm{Attention}(Q,K,V)=\\mathrm{softmax}(\\frac{QK^T}{\\sqrt{d_k}})V\n",
    "$$\n",
    "\n",
    "参考 1. [The Annotated Transformer](http://nlp.seas.harvard.edu/2018/04/03/attention.html)"
   ]
  },
  {
   "cell_type": "code",
   "execution_count": 1,
   "metadata": {},
   "outputs": [],
   "source": [
    "import numpy as np\n",
    "import torch\n",
    "import torch.nn as nn\n",
    "import torch.nn.functional as F\n",
    "import math, copy\n",
    "import matplotlib.pyplot as plt\n",
    "import seaborn\n",
    "seaborn.set_context(context=\"talk\")\n",
    "%matplotlib inline"
   ]
  },
  {
   "cell_type": "code",
   "execution_count": 2,
   "metadata": {},
   "outputs": [],
   "source": [
    "def attention(query, key, value, mask=None, dropout=None):\n",
    "    \"Compute 'Scaled Dot Product Attention'\"\n",
    "    d_k = query.size(-1)\n",
    "    scores = torch.matmul(query, key.transpose(-2, -1)) \\\n",
    "             / math.sqrt(d_k)\n",
    "    if mask is not None:\n",
    "        scores = scores.masked_fill(mask == 0, -1e9)\n",
    "    p_attn = F.softmax(scores, dim = -1)\n",
    "    if dropout is not None:\n",
    "        p_attn = dropout(p_attn)\n",
    "    return torch.matmul(p_attn, value), p_attn"
   ]
  },
  {
   "cell_type": "markdown",
   "metadata": {},
   "source": [
    "理解：\n",
    "* 单单`attention`函数中不含有可学习的参数\n",
    "* 注意`attention`函数支持高维的tensor <- [`torch.matmul`](https://pytorch.org/docs/stable/generated/torch.matmul.html?highlight=matmul#torch.matmul)支持batched matrix multiply\n",
    "* 若`dropout=nn.Dropout(p)`，则有p的概率将p_attn中的元素置为0\n",
    "* 用一个例子说明`mask`的影响"
   ]
  },
  {
   "cell_type": "code",
   "execution_count": 3,
   "metadata": {},
   "outputs": [
    {
     "name": "stdout",
     "output_type": "stream",
     "text": [
      "=============== w/o mask ===============\n",
      "p_attn:\n",
      " tensor([[0.7704, 0.0765, 0.0765, 0.0765],\n",
      "        [0.0320, 0.3227, 0.3227, 0.3227],\n",
      "        [0.0320, 0.3227, 0.3227, 0.3227],\n",
      "        [0.0320, 0.3227, 0.3227, 0.3227]])\n"
     ]
    },
    {
     "data": {
      "image/png": "[encoded data removed]",
      "text/plain": [
       "<Figure size 432x432 with 2 Axes>"
      ]
     },
     "metadata": {
      "needs_background": "light"
     },
     "output_type": "display_data"
    },
    {
     "name": "stdout",
     "output_type": "stream",
     "text": [
      "===============  wz mask ===============\n",
      "p_attn:\n",
      " tensor([[[1.0000, 0.0000, 0.0000, 0.0000],\n",
      "         [0.0903, 0.9097, 0.0000, 0.0000],\n",
      "         [0.0473, 0.4763, 0.4763, 0.0000],\n",
      "         [0.0320, 0.3227, 0.3227, 0.3227]]])\n"
     ]
    },
    {
     "data": {
      "image/png": "[encoded data removed]",
      "text/plain": [
       "<Figure size 432x432 with 2 Axes>"
      ]
     },
     "metadata": {
      "needs_background": "light"
     },
     "output_type": "display_data"
    }
   ],
   "source": [
    "def subsequent_mask(size):\n",
    "    \"Mask out subsequent positions.\"\n",
    "    attn_shape = (1, size, size)\n",
    "    subsequent_mask = np.triu(np.ones(attn_shape), k=1).astype('uint8')\n",
    "    return torch.from_numpy(subsequent_mask) == 0\n",
    "\n",
    "def attention(query, key, value, mask=None, dropout=None):\n",
    "    \"Compute 'Scaled Dot Product Attention'\"\n",
    "    d_k = query.size(-1)\n",
    "    scores = torch.matmul(query, key.transpose(-2, -1)) \\\n",
    "             / math.sqrt(d_k)\n",
    "    if mask is not None:\n",
    "        scores = scores.masked_fill(mask == 0, -1e9)\n",
    "    p_attn = F.softmax(scores, dim = -1)\n",
    "    if dropout is not None:\n",
    "        p_attn = dropout(p_attn)\n",
    "    return torch.matmul(p_attn, value), p_attn\n",
    "\n",
    "\n",
    "x = torch.Tensor(\n",
    "    [\n",
    "        [1, 2, 3],  # q1, k1, v1\n",
    "        [3, 2, 1],  # q2, k2, v2\n",
    "        [3, 2, 1],  # q3, k3, v3\n",
    "        [3, 2, 1],  # q4, k4, v4\n",
    "    ]\n",
    ")\n",
    "\n",
    "print(\"=\"*15, \"w/o mask\", \"=\"*15)\n",
    "_, p_attn = attention(x, x, x, mask=None)\n",
    "print(\"p_attn:\\n\", p_attn)\n",
    "plt.figure(figsize=(6,6))\n",
    "seaborn.heatmap(p_attn.numpy(), annot=True, cmap=\"YlOrBr\", square=True)\n",
    "plt.gca().set_xticks([])\n",
    "plt.gca().set_yticks([])\n",
    "plt.show()\n",
    "\n",
    "\n",
    "print(\"=\"*15, \" wz mask\", \"=\"*15)\n",
    "mask = subsequent_mask(x.size(0))\n",
    "_, p_attn = attention(x, x, x, mask)\n",
    "print(\"p_attn:\\n\", p_attn)\n",
    "plt.figure(figsize=(6,6))\n",
    "seaborn.heatmap(p_attn[0].numpy(), annot=True, cmap=\"YlOrBr\", square=True)\n",
    "plt.gca().set_xticks([])\n",
    "plt.gca().set_yticks([])\n",
    "plt.show()\n"
   ]
  },
  {
   "cell_type": "code",
   "execution_count": 4,
   "metadata": {},
   "outputs": [
    {
     "name": "stdout",
     "output_type": "stream",
     "text": [
      "===============   mask   ===============\n",
      "mask:\n",
      " tensor([[[ True, False, False, False],\n",
      "         [ True,  True, False, False],\n",
      "         [ True,  True,  True, False],\n",
      "         [ True,  True,  True,  True]]])\n",
      "mask.dtype: torch.bool\n"
     ]
    },
    {
     "data": {
      "image/png": "[encoded data removed]",
      "text/plain": [
       "<Figure size 432x432 with 2 Axes>"
      ]
     },
     "metadata": {
      "needs_background": "light"
     },
     "output_type": "display_data"
    }
   ],
   "source": [
    "print(\"=\"*15, \"  mask  \", \"=\"*15)\n",
    "print(\"mask:\\n\", mask)\n",
    "print(\"mask.dtype:\", mask.dtype)\n",
    "plt.figure(figsize=(6,6))\n",
    "seaborn.heatmap(mask[0].numpy(), annot=True, cmap=\"YlOrBr\", square=True)\n",
    "plt.gca().set_xticks([])\n",
    "plt.gca().set_yticks([])\n",
    "plt.show()"
   ]
  },
  {
   "cell_type": "markdown",
   "metadata": {},
   "source": [
    "## Multi-Head Attention\n",
    "\n",
    "$$\n",
    "\\mathrm{MultiHead}(Q,K,V)=\\mathrm{Concat}(\\mathrm{head}_1,\\cdots,\\mathrm{head}_h)W^O,\\quad W^O\\in\\mathbb{R}^{hd_v\\times d_{model}}\\\\\n",
    "\\mathrm{head}_i=\\mathrm{Attention}(QW_i^{Q},KW_i^{K},VW_i^{V}),\\quad W_i^Q,W_i^K\\in\\mathbb{R}^{d_{model}\\times d_{k}},W_i^V\\in\\mathbb{R}^{d_{model}\\times d_{v}}\n",
    "$$\n",
    "\n",
    "$h=8,d_{model}=512,d_k=d_v=d_{model}/h=64$\n",
    "\n",
    "参考 1. [The Annotated Transformer](http://nlp.seas.harvard.edu/2018/04/03/attention.html)"
   ]
  },
  {
   "cell_type": "code",
   "execution_count": 5,
   "metadata": {},
   "outputs": [],
   "source": [
    "def clones(module, N):\n",
    "    \"Produce N identical layers.\"\n",
    "    return nn.ModuleList([copy.deepcopy(module) for _ in range(N)])\n",
    "\n",
    "class MultiHeadedAttention(nn.Module):\n",
    "    def __init__(self, h, d_model, dropout=0.1):\n",
    "        \"Take in model size and number of heads.\"\n",
    "        super(MultiHeadedAttention, self).__init__()\n",
    "        assert d_model % h == 0\n",
    "        # We assume d_v always equals d_k\n",
    "        self.d_k = d_model // h\n",
    "        self.h = h\n",
    "        self.linears = clones(nn.Linear(d_model, d_model), 4)\n",
    "        self.attn = None\n",
    "        self.dropout = nn.Dropout(p=dropout)\n",
    "        \n",
    "    def forward(self, query, key, value, mask=None):\n",
    "        \"Implements Figure 2\"\n",
    "        if mask is not None:\n",
    "            # Same mask applied to all h heads.\n",
    "            mask = mask.unsqueeze(1)\n",
    "        nbatches = query.size(0)\n",
    "        \n",
    "        # 1) Do all the linear projections in batch from d_model => h x d_k \n",
    "        query, key, value = \\\n",
    "            [l(x).view(nbatches, -1, self.h, self.d_k).transpose(1, 2)\n",
    "             for l, x in zip(self.linears, (query, key, value))]\n",
    "        \n",
    "        # 2) Apply attention on all the projected vectors in batch. \n",
    "        x, self.attn = attention(query, key, value, mask=mask, \n",
    "                                 dropout=self.dropout)\n",
    "        \n",
    "        # 3) \"Concat\" using x view and apply x final linear. \n",
    "        x = x.transpose(1, 2).contiguous() \\\n",
    "             .view(nbatches, -1, self.h * self.d_k)\n",
    "        return self.linears[-1](x)"
   ]
  },
  {
   "cell_type": "markdown",
   "metadata": {},
   "source": [
    "理解：\n",
    "* `MultiHeadedAttention`代码看起来云里雾里的，运行一个例子输出shape看一下"
   ]
  },
  {
   "cell_type": "code",
   "execution_count": null,
   "metadata": {},
   "outputs": [
    {
     "name": "stdout",
     "output_type": "stream",
     "text": [
      "==================== 0 ====================\n",
      "query.shape torch.Size([2, 20, 512])\n",
      "key.shape torch.Size([2, 20, 512])\n",
      "value.shape torch.Size([2, 20, 512])\n",
      "==================== 1 ====================\n",
      "query.shape torch.Size([2, 8, 20, 64])\n",
      "key.shape torch.Size([2, 8, 20, 64])\n",
      "value.shape torch.Size([2, 8, 20, 64])\n",
      "==================== 2 ====================\n",
      "x.shape torch.Size([2, 8, 20, 64])\n",
      "self.attn.shape torch.Size([2, 8, 20, 20])\n",
      "==================== 3 ====================\n",
      "x.shape torch.Size([2, 20, 512])\n",
      "=================== out ===================\n",
      "out.shape torch.Size([2, 20, 512])\n"
     ]
    }
   ],
   "source": [
    "def clones(module, N):\n",
    "    \"Produce N identical layers.\"\n",
    "    return nn.ModuleList([copy.deepcopy(module) for _ in range(N)])\n",
    "class MultiHeadedAttention(nn.Module):\n",
    "    def __init__(self, h, d_model, dropout=0.1):\n",
    "        \"Take in model size and number of heads.\"\n",
    "        super(MultiHeadedAttention, self).__init__()\n",
    "        assert d_model % h == 0\n",
    "        # We assume d_v always equals d_k\n",
    "        self.d_k = d_model // h\n",
    "        self.h = h\n",
    "        self.linears = clones(nn.Linear(d_model, d_model), 4)\n",
    "        self.attn = None\n",
    "        self.dropout = nn.Dropout(p=dropout)\n",
    "\n",
    "    def forward(self, query, key, value, mask=None):\n",
    "        \"Implements Figure 2\"\n",
    "        print(\"=\"*20, \"0\", \"=\"*20)\n",
    "        print(\"query.shape\", query.shape)\n",
    "        print(\"key.shape\", key.shape)\n",
    "        print(\"value.shape\", value.shape)\n",
    "        if mask is not None:\n",
    "            # Same mask applied to all h heads.\n",
    "            mask = mask.unsqueeze(1)\n",
    "        nbatches = query.size(0)\n",
    "\n",
    "        # 1) Do all the linear projections in batch from d_model => h x d_k\n",
    "        query, key, value = \\\n",
    "            [l(x).view(nbatches, -1, self.h, self.d_k).transpose(1, 2)\n",
    "             for l, x in zip(self.linears, (query, key, value))]\n",
    "        print(\"=\"*20, \"1\", \"=\"*20)\n",
    "        print(\"query.shape\", query.shape)\n",
    "        print(\"key.shape\", key.shape)\n",
    "        print(\"value.shape\", value.shape)\n",
    "\n",
    "        # 2) Apply attention on all the projected vectors in batch.\n",
    "        x, self.attn = attention(query, key, value, mask=mask,\n",
    "                                 dropout=self.dropout)\n",
    "        print(\"=\"*20, \"2\", \"=\"*20)\n",
    "        print(\"x.shape\", x.shape)\n",
    "        print(\"self.attn.shape\", (self.attn).shape)\n",
    "\n",
    "        # 3) \"Concat\" using x view and apply x final linear.\n",
    "        x = x.transpose(1, 2).contiguous() \\\n",
    "             .view(nbatches, -1, self.h * self.d_k)\n",
    "        print(\"=\"*20, \"3\", \"=\"*20)\n",
    "        print(\"x.shape\", x.shape)\n",
    "\n",
    "        return self.linears[-1](x)\n",
    "\n",
    "x = torch.rand((2, 20, 512))\n",
    "mattn = MultiHeadedAttention(h=8, d_model=512, dropout=0.1)\n",
    "out = mattn(x, x, x)\n",
    "print(\"=\"*19, \"out\", \"=\"*19)\n",
    "print(\"out.shape\", out.shape)"
   ]
  },
  {
   "cell_type": "markdown",
   "metadata": {},
   "source": [
    "理解：\n",
    "\n",
    "0.  \n",
    "    \n",
    "        a) 参数query，key，value初始的shape是 (B, N, d_model)\n",
    "\n",
    "        b) 函数返回的tensor的shape也是 (B, N, d_model)\n",
    "\n",
    "        c) 所以可以有残差连接\n",
    "\n",
    "1. \n",
    "    ```python\n",
    "    [l(x).view(nbatches, -1, self.h, self.d_k).transpose(1, 2)\n",
    "                 for l, x in zip(self.linears, (query, key, value))]\n",
    "    ```\n",
    "       分别对初始的query，key，value进行了三步操作\n",
    "\n",
    "       a) (B, N, d_model) -Linear-> (B, N, d_model)\n",
    "\n",
    "       b) (B, N, d_model) -view-> (B, N, h, d_k) 其中d_model = h * d_k\n",
    "\n",
    "       c) (B, N, h, d_k) -transpose-> (B, h, N, d_k)\n",
    "\n",
    "2. \n",
    "    ```python\n",
    "    x, self.attn = attention(query, key, value, mask=mask,\n",
    "                                 dropout=self.dropout)\n",
    "    ```\n",
    "        计算了高维的query，key，value的注意力(batched)\n",
    "        \n",
    "        a) query (B, h, N, d_k)  key^T (B, h, d_k, N) -> p_attn (B, h, N, N)\n",
    "        \n",
    "        b) p_attn (B, h, N, N) value (B, h, N, d_k) -> x (B, h, N, d_k)\n",
    " \n",
    "3. \n",
    "    ```python\n",
    "    x = x.transpose(1, 2).contiguous() \\\n",
    "             .view(nbatches, -1, self.h * self.d_k)\n",
    "    ```\n",
    "        利用维度变化实现了concat\n",
    "        \n",
    "        a) x (B, h, N, d_k) -transpose-> x (B, N, h, d_k)\n",
    "        \n",
    "        b) x (B, N, h, d_k) -view-> x (B, N, d_model)\n",
    " \n",
    "4. \n",
    "    ```python\n",
    "    self.linears[-1](x) \n",
    "    ```\n",
    "        实现了最后与$W^O$的矩阵乘法\n",
    "    "
   ]
  },
  {
   "cell_type": "markdown",
   "metadata": {},
   "source": [
    "参考 2. [vit-pytorch](https://github.com/lucidrains/vit-pytorch/blob/main/vit_pytorch/vit.py)\n",
    "\n",
    "论文[Appendix A MULTIHEAD SELF-ATTENTION](https://arxiv.org/pdf/2010.11929v2.pdf) 中多头自注意力机制公式\n",
    "\n",
    "![avatar](vit_appendix.png)\n",
    "\n",
    "```python\n",
    "class Attention(nn.Module):\n",
    "    def __init__(self, dim, heads = 8, dim_head = 64, dropout = 0.):\n",
    "        super().__init__()\n",
    "        inner_dim = dim_head *  heads\n",
    "        project_out = not (heads == 1 and dim_head == dim)\n",
    "\n",
    "        self.heads = heads\n",
    "        self.scale = dim_head ** -0.5\n",
    "\n",
    "        self.attend = nn.Softmax(dim = -1)\n",
    "        self.dropout = nn.Dropout(dropout)\n",
    "\n",
    "        self.to_qkv = nn.Linear(dim, inner_dim * 3, bias = False)\n",
    "\n",
    "        self.to_out = nn.Sequential(\n",
    "            nn.Linear(inner_dim, dim),\n",
    "            nn.Dropout(dropout)\n",
    "        ) if project_out else nn.Identity()\n",
    "\n",
    "    def forward(self, x):\n",
    "        qkv = self.to_qkv(x).chunk(3, dim = -1)\n",
    "        q, k, v = map(lambda t: rearrange(t, 'b n (h d) -> b h n d', h = self.heads), qkv)\n",
    "\n",
    "        dots = torch.matmul(q, k.transpose(-1, -2)) * self.scale\n",
    "\n",
    "        attn = self.attend(dots)\n",
    "        attn = self.dropout(attn)\n",
    "\n",
    "        out = torch.matmul(attn, v)\n",
    "        out = rearrange(out, 'b h n d -> b n (h d)')\n",
    "        return self.to_out(out)\n",
    "```"
   ]
  },
  {
   "cell_type": "code",
   "execution_count": null,
   "metadata": {},
   "outputs": [],
   "source": []
  }
 ],
 "metadata": {
  "kernelspec": {
   "display_name": "bert_as_service",
   "language": "python",
   "name": "python3"
  },
  "language_info": {
   "codemirror_mode": {
    "name": "ipython",
    "version": 3
   },
   "file_extension": ".py",
   "mimetype": "text/x-python",
   "name": "python",
   "nbconvert_exporter": "python",
   "pygments_lexer": "ipython3",
   "version": "3.7.12"
  },
  "vscode": {
   "interpreter": {
    "hash": "7ca3d99c5a674eb900a3505bcb85a1a616c7e1feca076e37ed1c3618462c9e7e"
   }
  }
 },
 "nbformat": 4,
 "nbformat_minor": 2
}
